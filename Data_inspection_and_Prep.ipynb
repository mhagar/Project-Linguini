{
 "cells": [
  {
   "cell_type": "markdown",
   "id": "8d0e0db6",
   "metadata": {},
   "source": [
    "# Data Inspection + Preparation\n",
    "\n",
    "The file `food_articles_dec_23_2021.json` contains the output of a SPARQL query on wikidata. This is the query: \n",
    "```python\n",
    "# Food\n",
    "SELECT ?item ?itemLabel\n",
    "WHERE\n",
    "{\n",
    " ?item wdt:P279 wd:Q2095. \n",
    " # Must be a `subclass of` the `food` entity\n",
    " SERVICE wikibase:label { bd:serviceParam wikibase:language \"[AUTO_LANGUAGE],en\". } \n",
    " # Helps get the label in your language, if not, then en language\n",
    "}\n",
    "```\n",
    "\n",
    "I will now inspect the data"
   ]
  },
  {
   "cell_type": "code",
   "execution_count": 15,
   "id": "0b82f8c8",
   "metadata": {},
   "outputs": [
    {
     "data": {
      "text/html": [
       "<div>\n",
       "<style scoped>\n",
       "    .dataframe tbody tr th:only-of-type {\n",
       "        vertical-align: middle;\n",
       "    }\n",
       "\n",
       "    .dataframe tbody tr th {\n",
       "        vertical-align: top;\n",
       "    }\n",
       "\n",
       "    .dataframe thead th {\n",
       "        text-align: right;\n",
       "    }\n",
       "</style>\n",
       "<table border=\"1\" class=\"dataframe\">\n",
       "  <thead>\n",
       "    <tr style=\"text-align: right;\">\n",
       "      <th></th>\n",
       "      <th>item</th>\n",
       "      <th>itemLabel</th>\n",
       "    </tr>\n",
       "  </thead>\n",
       "  <tbody>\n",
       "    <tr>\n",
       "      <th>0</th>\n",
       "      <td>http://www.wikidata.org/entity/Q4287</td>\n",
       "      <td>margarine</td>\n",
       "    </tr>\n",
       "    <tr>\n",
       "      <th>1</th>\n",
       "      <td>http://www.wikidata.org/entity/Q4551</td>\n",
       "      <td>borscht</td>\n",
       "    </tr>\n",
       "    <tr>\n",
       "      <th>2</th>\n",
       "      <td>http://www.wikidata.org/entity/Q6099</td>\n",
       "      <td>escalope</td>\n",
       "    </tr>\n",
       "    <tr>\n",
       "      <th>3</th>\n",
       "      <td>http://www.wikidata.org/entity/Q6591</td>\n",
       "      <td>speculaas</td>\n",
       "    </tr>\n",
       "    <tr>\n",
       "      <th>4</th>\n",
       "      <td>http://www.wikidata.org/entity/Q6663</td>\n",
       "      <td>hamburger</td>\n",
       "    </tr>\n",
       "  </tbody>\n",
       "</table>\n",
       "</div>"
      ],
      "text/plain": [
       "                                   item  itemLabel\n",
       "0  http://www.wikidata.org/entity/Q4287  margarine\n",
       "1  http://www.wikidata.org/entity/Q4551    borscht\n",
       "2  http://www.wikidata.org/entity/Q6099   escalope\n",
       "3  http://www.wikidata.org/entity/Q6591  speculaas\n",
       "4  http://www.wikidata.org/entity/Q6663  hamburger"
      ]
     },
     "execution_count": 15,
     "metadata": {},
     "output_type": "execute_result"
    }
   ],
   "source": [
    "import json\n",
    "import pandas as pd\n",
    "\n",
    "dict_data = {}\n",
    "with open('food_articles_dec_23_2021.json') as f:\n",
    "    dict_data = json.load(f)\n",
    "    f.close()\n",
    "    \n",
    "df = pd.DataFrame.from_dict(dict_data)\n",
    "df.head()"
   ]
  },
  {
   "cell_type": "markdown",
   "id": "284a5020",
   "metadata": {},
   "source": [
    "Ok so it seems like I need to clean this up a lil bit.\n",
    "Step 1:"
   ]
  },
  {
   "cell_type": "code",
   "execution_count": 16,
   "id": "b609a869",
   "metadata": {},
   "outputs": [
    {
     "data": {
      "text/html": [
       "<div>\n",
       "<style scoped>\n",
       "    .dataframe tbody tr th:only-of-type {\n",
       "        vertical-align: middle;\n",
       "    }\n",
       "\n",
       "    .dataframe tbody tr th {\n",
       "        vertical-align: top;\n",
       "    }\n",
       "\n",
       "    .dataframe thead th {\n",
       "        text-align: right;\n",
       "    }\n",
       "</style>\n",
       "<table border=\"1\" class=\"dataframe\">\n",
       "  <thead>\n",
       "    <tr style=\"text-align: right;\">\n",
       "      <th></th>\n",
       "      <th>item</th>\n",
       "      <th>itemLabel</th>\n",
       "    </tr>\n",
       "  </thead>\n",
       "  <tbody>\n",
       "    <tr>\n",
       "      <th>0</th>\n",
       "      <td>Q4287</td>\n",
       "      <td>margarine</td>\n",
       "    </tr>\n",
       "    <tr>\n",
       "      <th>1</th>\n",
       "      <td>Q4551</td>\n",
       "      <td>borscht</td>\n",
       "    </tr>\n",
       "    <tr>\n",
       "      <th>2</th>\n",
       "      <td>Q6099</td>\n",
       "      <td>escalope</td>\n",
       "    </tr>\n",
       "    <tr>\n",
       "      <th>3</th>\n",
       "      <td>Q6591</td>\n",
       "      <td>speculaas</td>\n",
       "    </tr>\n",
       "    <tr>\n",
       "      <th>4</th>\n",
       "      <td>Q6663</td>\n",
       "      <td>hamburger</td>\n",
       "    </tr>\n",
       "  </tbody>\n",
       "</table>\n",
       "</div>"
      ],
      "text/plain": [
       "    item  itemLabel\n",
       "0  Q4287  margarine\n",
       "1  Q4551    borscht\n",
       "2  Q6099   escalope\n",
       "3  Q6591  speculaas\n",
       "4  Q6663  hamburger"
      ]
     },
     "execution_count": 16,
     "metadata": {},
     "output_type": "execute_result"
    }
   ],
   "source": [
    "# Strips away the `https://.../` part from the 'item' column\n",
    "def stripURL(input):\n",
    "    return input[31:]\n",
    "\n",
    "df['item'] = df['item'].apply(stripURL)\n",
    "df.head()"
   ]
  },
  {
   "cell_type": "markdown",
   "id": "d63ae262",
   "metadata": {},
   "source": [
    "Next step: use the Q codes to retrieve more info about each entry. I will use the package `pywikibot` to interface with the wikidata API"
   ]
  },
  {
   "cell_type": "code",
   "execution_count": 1,
   "id": "e351f858",
   "metadata": {},
   "outputs": [
    {
     "ename": "ModuleNotFoundError",
     "evalue": "No module named 'pywikibot'",
     "output_type": "error",
     "traceback": [
      "\u001b[0;31m---------------------------------------------------------------------------\u001b[0m",
      "\u001b[0;31mModuleNotFoundError\u001b[0m                       Traceback (most recent call last)",
      "\u001b[0;32m/tmp/ipykernel_78594/2896929255.py\u001b[0m in \u001b[0;36m<module>\u001b[0;34m\u001b[0m\n\u001b[0;32m----> 1\u001b[0;31m \u001b[0;32mimport\u001b[0m \u001b[0mpywikibot\u001b[0m\u001b[0;34m\u001b[0m\u001b[0;34m\u001b[0m\u001b[0m\n\u001b[0m\u001b[1;32m      2\u001b[0m \u001b[0;34m\u001b[0m\u001b[0m\n\u001b[1;32m      3\u001b[0m \u001b[0mpywikibot\u001b[0m\u001b[0;34m.\u001b[0m\u001b[0m__path__\u001b[0m\u001b[0;34m\u001b[0m\u001b[0;34m\u001b[0m\u001b[0m\n\u001b[1;32m      4\u001b[0m \u001b[0;34m\u001b[0m\u001b[0m\n\u001b[1;32m      5\u001b[0m \u001b[0;31m# site = pywikibot.Site(\"wikidata\", \"wikidata\")\u001b[0m\u001b[0;34m\u001b[0m\u001b[0;34m\u001b[0m\u001b[0;34m\u001b[0m\u001b[0m\n",
      "\u001b[0;31mModuleNotFoundError\u001b[0m: No module named 'pywikibot'"
     ]
    }
   ],
   "source": [
    "import pywikibot\n",
    "\n",
    "pywikibot.__path__\n",
    "\n",
    "# site = pywikibot.Site(\"wikidata\", \"wikidata\")\n",
    "# repo = site.data_repository()\n",
    "\n",
    "# qcode = df.iloc[2]['item']\n",
    "# item = pywikibot.ItemPage(repo, qcode)\n",
    "\n"
   ]
  }
 ],
 "metadata": {
  "kernelspec": {
   "display_name": "Python 3 (ipykernel)",
   "language": "python",
   "name": "python3"
  },
  "language_info": {
   "codemirror_mode": {
    "name": "ipython",
    "version": 3
   },
   "file_extension": ".py",
   "mimetype": "text/x-python",
   "name": "python",
   "nbconvert_exporter": "python",
   "pygments_lexer": "ipython3",
   "version": "3.8.10"
  }
 },
 "nbformat": 4,
 "nbformat_minor": 5
}
