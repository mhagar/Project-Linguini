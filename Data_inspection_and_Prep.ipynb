{
 "cells": [
  {
   "cell_type": "markdown",
   "id": "8d0e0db6",
   "metadata": {},
   "source": [
    "# Data Inspection + Preparation\n",
    "\n",
    "The file `food_articles_dec_23_2021.json` contains the output of a SPARQL query on wikidata. This is the query: \n",
    "```python\n",
    "# Food\n",
    "SELECT ?item ?itemLabel\n",
    "WHERE\n",
    "{\n",
    " ?item wdt:P279 wd:Q2095. \n",
    " # Must be a `subclass of` the `food` entity\n",
    " SERVICE wikibase:label { bd:serviceParam wikibase:language \"[AUTO_LANGUAGE],en\". } \n",
    " # Helps get the label in your language, if not, then en language\n",
    "}\n",
    "```\n",
    "\n",
    "I will now inspect the data"
   ]
  },
  {
   "cell_type": "code",
   "execution_count": 1,
   "id": "0b82f8c8",
   "metadata": {},
   "outputs": [
    {
     "data": {
      "text/html": [
       "<div>\n",
       "<style scoped>\n",
       "    .dataframe tbody tr th:only-of-type {\n",
       "        vertical-align: middle;\n",
       "    }\n",
       "\n",
       "    .dataframe tbody tr th {\n",
       "        vertical-align: top;\n",
       "    }\n",
       "\n",
       "    .dataframe thead th {\n",
       "        text-align: right;\n",
       "    }\n",
       "</style>\n",
       "<table border=\"1\" class=\"dataframe\">\n",
       "  <thead>\n",
       "    <tr style=\"text-align: right;\">\n",
       "      <th></th>\n",
       "      <th>item</th>\n",
       "      <th>itemLabel</th>\n",
       "    </tr>\n",
       "  </thead>\n",
       "  <tbody>\n",
       "    <tr>\n",
       "      <th>0</th>\n",
       "      <td>http://www.wikidata.org/entity/Q4287</td>\n",
       "      <td>margarine</td>\n",
       "    </tr>\n",
       "    <tr>\n",
       "      <th>1</th>\n",
       "      <td>http://www.wikidata.org/entity/Q4551</td>\n",
       "      <td>borscht</td>\n",
       "    </tr>\n",
       "    <tr>\n",
       "      <th>2</th>\n",
       "      <td>http://www.wikidata.org/entity/Q6099</td>\n",
       "      <td>escalope</td>\n",
       "    </tr>\n",
       "    <tr>\n",
       "      <th>3</th>\n",
       "      <td>http://www.wikidata.org/entity/Q6591</td>\n",
       "      <td>speculaas</td>\n",
       "    </tr>\n",
       "    <tr>\n",
       "      <th>4</th>\n",
       "      <td>http://www.wikidata.org/entity/Q6663</td>\n",
       "      <td>hamburger</td>\n",
       "    </tr>\n",
       "  </tbody>\n",
       "</table>\n",
       "</div>"
      ],
      "text/plain": [
       "                                   item  itemLabel\n",
       "0  http://www.wikidata.org/entity/Q4287  margarine\n",
       "1  http://www.wikidata.org/entity/Q4551    borscht\n",
       "2  http://www.wikidata.org/entity/Q6099   escalope\n",
       "3  http://www.wikidata.org/entity/Q6591  speculaas\n",
       "4  http://www.wikidata.org/entity/Q6663  hamburger"
      ]
     },
     "execution_count": 1,
     "metadata": {},
     "output_type": "execute_result"
    }
   ],
   "source": [
    "import json\n",
    "import pandas as pd\n",
    "\n",
    "dict_data = {}\n",
    "with open('food_articles_dec_23_2021.json') as f:\n",
    "    dict_data = json.load(f)\n",
    "    f.close()\n",
    "    \n",
    "df = pd.DataFrame.from_dict(dict_data)\n",
    "df.head()"
   ]
  },
  {
   "cell_type": "markdown",
   "id": "284a5020",
   "metadata": {},
   "source": [
    "Ok so it seems like I need to clean this up a lil bit.\n",
    "Step 1:"
   ]
  },
  {
   "cell_type": "code",
   "execution_count": 2,
   "id": "b609a869",
   "metadata": {
    "scrolled": true
   },
   "outputs": [
    {
     "data": {
      "text/html": [
       "<div>\n",
       "<style scoped>\n",
       "    .dataframe tbody tr th:only-of-type {\n",
       "        vertical-align: middle;\n",
       "    }\n",
       "\n",
       "    .dataframe tbody tr th {\n",
       "        vertical-align: top;\n",
       "    }\n",
       "\n",
       "    .dataframe thead th {\n",
       "        text-align: right;\n",
       "    }\n",
       "</style>\n",
       "<table border=\"1\" class=\"dataframe\">\n",
       "  <thead>\n",
       "    <tr style=\"text-align: right;\">\n",
       "      <th></th>\n",
       "      <th>item</th>\n",
       "      <th>itemLabel</th>\n",
       "    </tr>\n",
       "  </thead>\n",
       "  <tbody>\n",
       "    <tr>\n",
       "      <th>0</th>\n",
       "      <td>Q4287</td>\n",
       "      <td>margarine</td>\n",
       "    </tr>\n",
       "    <tr>\n",
       "      <th>1</th>\n",
       "      <td>Q4551</td>\n",
       "      <td>borscht</td>\n",
       "    </tr>\n",
       "    <tr>\n",
       "      <th>2</th>\n",
       "      <td>Q6099</td>\n",
       "      <td>escalope</td>\n",
       "    </tr>\n",
       "    <tr>\n",
       "      <th>3</th>\n",
       "      <td>Q6591</td>\n",
       "      <td>speculaas</td>\n",
       "    </tr>\n",
       "    <tr>\n",
       "      <th>4</th>\n",
       "      <td>Q6663</td>\n",
       "      <td>hamburger</td>\n",
       "    </tr>\n",
       "  </tbody>\n",
       "</table>\n",
       "</div>"
      ],
      "text/plain": [
       "    item  itemLabel\n",
       "0  Q4287  margarine\n",
       "1  Q4551    borscht\n",
       "2  Q6099   escalope\n",
       "3  Q6591  speculaas\n",
       "4  Q6663  hamburger"
      ]
     },
     "execution_count": 2,
     "metadata": {},
     "output_type": "execute_result"
    }
   ],
   "source": [
    "# Strips away the `https://.../` part from the 'item' column\n",
    "def stripURL(input):\n",
    "    return input[31:]\n",
    "\n",
    "df['item'] = df['item'].apply(stripURL)\n",
    "df.head()"
   ]
  },
  {
   "cell_type": "markdown",
   "id": "d63ae262",
   "metadata": {},
   "source": [
    "Next step: use the Q codes to retrieve more info about each entry. I will use the package `pywikibot` to interface with the wikidata API"
   ]
  },
  {
   "cell_type": "code",
   "execution_count": 21,
   "id": "54ff9e40",
   "metadata": {},
   "outputs": [],
   "source": [
    "import pywikibot\n",
    "\n",
    "site = pywikibot.Site(\"wikidata\", \"wikidata\")\n",
    "repo = site.data_repository()\n",
    "\n",
    "# Testing: gonna try to pull up the wiki links for row '2'\n",
    "qcode = df.iloc[2]['item']\n",
    "item = pywikibot.ItemPage(repo, qcode)"
   ]
  },
  {
   "cell_type": "code",
   "execution_count": 36,
   "id": "fdd2b6d5",
   "metadata": {},
   "outputs": [],
   "source": [
    "item_labels = item.get()['labels']\n"
   ]
  },
  {
   "cell_type": "code",
   "execution_count": 40,
   "id": "f97555db",
   "metadata": {},
   "outputs": [
    {
     "data": {
      "text/plain": [
       "['https://de.wikipedia.org/wiki/Schnitzel',\n",
       " 'https://en.wikipedia.org/wiki/escalope',\n",
       " 'https://fr.wikipedia.org/wiki/escalope',\n",
       " 'https://ar.wikipedia.org/wiki/إسكالوب',\n",
       " 'https://ca.wikipedia.org/wiki/Escalopes',\n",
       " 'https://cs.wikipedia.org/wiki/řízek',\n",
       " 'https://en-ca.wikipedia.org/wiki/escalope',\n",
       " 'https://fa.wikipedia.org/wiki/شنتسل',\n",
       " 'https://he.wikipedia.org/wiki/שניצל',\n",
       " 'https://ja.wikipedia.org/wiki/エスカロープ',\n",
       " 'https://nl.wikipedia.org/wiki/schnitzel',\n",
       " 'https://ru.wikipedia.org/wiki/эскалоп',\n",
       " 'https://sl.wikipedia.org/wiki/Zrezek',\n",
       " 'https://sv.wikipedia.org/wiki/Schnitzel',\n",
       " 'https://uk.wikipedia.org/wiki/ескалоп',\n",
       " 'https://zh.wikipedia.org/wiki/香雞排',\n",
       " 'https://zh-cn.wikipedia.org/wiki/香雞排',\n",
       " 'https://zh-hans.wikipedia.org/wiki/香雞排',\n",
       " 'https://zh-hant.wikipedia.org/wiki/香雞排',\n",
       " 'https://de-ch.wikipedia.org/wiki/Schnitzel',\n",
       " 'https://pl.wikipedia.org/wiki/eskalopka',\n",
       " 'https://yi.wikipedia.org/wiki/ווינער שניצל',\n",
       " 'https://eo.wikipedia.org/wiki/eskalopo',\n",
       " 'https://pt.wikipedia.org/wiki/escalope',\n",
       " 'https://kk.wikipedia.org/wiki/Эскалоп',\n",
       " 'https://sk.wikipedia.org/wiki/rezeň',\n",
       " 'https://hu.wikipedia.org/wiki/Bécsi szelet',\n",
       " 'https://el.wikipedia.org/wiki/Σνίτσελ',\n",
       " 'https://hy.wikipedia.org/wiki/Շնիցել',\n",
       " 'https://en-gb.wikipedia.org/wiki/escalope',\n",
       " 'https://es.wikipedia.org/wiki/escalope',\n",
       " 'https://oc.wikipedia.org/wiki/Escalòpa',\n",
       " 'https://ms.wikipedia.org/wiki/Escalope',\n",
       " 'https://gl.wikipedia.org/wiki/Escalope',\n",
       " 'https://ko.wikipedia.org/wiki/에스칼로프',\n",
       " 'https://az.wikipedia.org/wiki/Eskalop',\n",
       " 'https://jv.wikipedia.org/wiki/Escalope',\n",
       " 'https://vec.wikipedia.org/wiki/scałopina']"
      ]
     },
     "execution_count": 40,
     "metadata": {},
     "output_type": "execute_result"
    }
   ],
   "source": [
    "item_urls = []\n",
    "for k,v in item_labels.items():\n",
    "    item_urls.append(f\"https://{k}.wikipedia.org/wiki/{v}\")\n",
    "\n",
    "item_urls\n"
   ]
  }
 ],
 "metadata": {
  "kernelspec": {
   "display_name": "Python 3 (ipykernel)",
   "language": "python",
   "name": "python3"
  },
  "language_info": {
   "codemirror_mode": {
    "name": "ipython",
    "version": 3
   },
   "file_extension": ".py",
   "mimetype": "text/x-python",
   "name": "python",
   "nbconvert_exporter": "python",
   "pygments_lexer": "ipython3",
   "version": "3.8.10"
  }
 },
 "nbformat": 4,
 "nbformat_minor": 5
}
